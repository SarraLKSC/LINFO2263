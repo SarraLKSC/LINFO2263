{
  "nbformat": 4,
  "nbformat_minor": 0,
  "metadata": {
    "colab": {
      "name": "LINFO2263_Word2Vec.ipynb",
      "provenance": []
    },
    "kernelspec": {
      "name": "python3",
      "display_name": "Python 3"
    },
    "language_info": {
      "name": "python"
    }
  },
  "cells": [
    {
      "cell_type": "markdown",
      "metadata": {
        "id": "Vn9pumO7nQlU"
      },
      "source": [
        "# LINFO2263 Assignement 2 \n",
        "by Sarra Laksaci\n",
        "\n",
        "\n",
        "---\n",
        "\n",
        "\n"
      ]
    },
    {
      "cell_type": "code",
      "metadata": {
        "id": "MZuO6Vw1qKu1",
        "colab": {
          "base_uri": "https://localhost:8080/"
        },
        "outputId": "e0b799be-7c20-41d7-c25e-af8ddc7610b6"
      },
      "source": [
        "import nltk\n",
        "import math\n",
        "import pandas as pd\n",
        "from gensim.models import Word2Vec\n",
        "from gensim.test.utils import common_texts\n",
        "\n",
        "nltk.download('punkt')"
      ],
      "execution_count": null,
      "outputs": [
        {
          "output_type": "stream",
          "name": "stdout",
          "text": [
            "[nltk_data] Downloading package punkt to /root/nltk_data...\n",
            "[nltk_data]   Unzipping tokenizers/punkt.zip.\n"
          ]
        },
        {
          "output_type": "execute_result",
          "data": {
            "text/plain": [
              "True"
            ]
          },
          "metadata": {},
          "execution_count": 1
        }
      ]
    },
    {
      "cell_type": "code",
      "metadata": {
        "id": "7MpPZSZjnL4b"
      },
      "source": [
        "# Load corpus with PlainTextReader from nltk.corpus.readers \n",
        "input_directory=\".\" #normalement corpora/\n",
        "corpus = nltk.corpus.reader.PlaintextCorpusReader(input_directory,'.*.txt')"
      ],
      "execution_count": null,
      "outputs": []
    },
    {
      "cell_type": "code",
      "metadata": {
        "id": "L00MTs6_pQ-n",
        "colab": {
          "base_uri": "https://localhost:8080/"
        },
        "outputId": "4e5b4bd4-4ce4-4ba9-9234-3608f03cd4db"
      },
      "source": [
        "paragraphs= corpus.paras()\n",
        "print(len(paragraphs))"
      ],
      "execution_count": null,
      "outputs": [
        {
          "output_type": "stream",
          "name": "stdout",
          "text": [
            "1505\n"
          ]
        }
      ]
    },
    {
      "cell_type": "code",
      "metadata": {
        "id": "SJhZa5zHuS7c"
      },
      "source": [
        "delete= [\"\\\"\", \"'\", \",\", \".\", \":\", \"?\", \"!\", \".\\\"\", \"?\\\"\", \"!\\\"\", \"-\", \",\\\"\", \"--\"]"
      ],
      "execution_count": null,
      "outputs": []
    },
    {
      "cell_type": "code",
      "metadata": {
        "id": "T8fPPDcfv_Om"
      },
      "source": [
        "words=[]\n",
        "for word in corpus.words():\n",
        "  if word not in delete:\n",
        "    words.append(word.lower())"
      ],
      "execution_count": null,
      "outputs": []
    },
    {
      "cell_type": "code",
      "metadata": {
        "id": "P9slNpJjwP8T"
      },
      "source": [
        "from nltk import ngrams\n",
        "from nltk import bigrams\n",
        "\n",
        "n = 5\n",
        "fifgrams = ngrams(words, n)\n",
        "i=0\n",
        "sentences=[]\n",
        "sentences.append( words[:3])\n",
        "sentences.append( words[:4])\n",
        "for grams in fifgrams:\n",
        "  sentences.append(list(grams))\n",
        "\n",
        "sentences.append(words[-3:])\n",
        "sentences.append(words[-4:])\n"
      ],
      "execution_count": null,
      "outputs": []
    },
    {
      "cell_type": "markdown",
      "metadata": {
        "id": "KZ6t8jLISZ13"
      },
      "source": [
        "### Word2Vec"
      ]
    },
    {
      "cell_type": "code",
      "metadata": {
        "id": "ZiBliuFmR4qz"
      },
      "source": [
        "#Documentation code\n",
        "model = Word2Vec(sentences=sentences, size=100, window=2, min_count=2, workers=4,sg=1,negative=10)\n",
        "model.save(\"word2vec.model\")"
      ],
      "execution_count": null,
      "outputs": []
    },
    {
      "cell_type": "code",
      "metadata": {
        "id": "GLC73erTR91K",
        "colab": {
          "base_uri": "https://localhost:8080/"
        },
        "outputId": "211ea754-e349-489c-b433-7fb373e10695"
      },
      "source": [
        "model = Word2Vec.load(\"word2vec.model\")\n",
        "model.train(sentences, total_examples=10, epochs=300)"
      ],
      "execution_count": null,
      "outputs": [
        {
          "output_type": "execute_result",
          "data": {
            "text/plain": [
              "(64174274, 90356700)"
            ]
          },
          "metadata": {},
          "execution_count": 8
        }
      ]
    },
    {
      "cell_type": "code",
      "metadata": {
        "id": "Lv-a8R8JSlHI"
      },
      "source": [
        "vector = model.wv['school']  # get numpy vector of a word\n",
        "sims = model.wv.most_similar('school', topn=5)  # get other similar words"
      ],
      "execution_count": null,
      "outputs": []
    },
    {
      "cell_type": "code",
      "metadata": {
        "colab": {
          "base_uri": "https://localhost:8080/"
        },
        "id": "WqCH5XHISmYW",
        "outputId": "b4bbebef-8408-42e6-c336-f016fb1f434b"
      },
      "source": [
        "sims"
      ],
      "execution_count": null,
      "outputs": [
        {
          "output_type": "execute_result",
          "data": {
            "text/plain": [
              "[('fortunate', 0.8622344732284546),\n",
              " ('expressly', 0.8581877946853638),\n",
              " ('clerk', 0.8551710844039917),\n",
              " ('interrogate', 0.8528649210929871),\n",
              " ('sheltered', 0.8512241840362549)]"
            ]
          },
          "metadata": {},
          "execution_count": 10
        }
      ]
    },
    {
      "cell_type": "code",
      "metadata": {
        "colab": {
          "base_uri": "https://localhost:8080/"
        },
        "id": "F2zQQ5lfSnur",
        "outputId": "87087ac0-ebe8-4447-ef30-9fa574cbf0b4"
      },
      "source": [
        "model.wv.most_similar(\"sherlock\",topn=5)"
      ],
      "execution_count": null,
      "outputs": [
        {
          "output_type": "execute_result",
          "data": {
            "text/plain": [
              "[('incredulously', 0.7897136211395264),\n",
              " ('://', 0.7750841975212097),\n",
              " ('holm', 0.7653539180755615),\n",
              " ('contents', 0.7421319484710693),\n",
              " ('indorsed', 0.7406284809112549)]"
            ]
          },
          "metadata": {},
          "execution_count": 11
        }
      ]
    },
    {
      "cell_type": "code",
      "metadata": {
        "colab": {
          "base_uri": "https://localhost:8080/"
        },
        "id": "vimAr8zDIA0u",
        "outputId": "7adfe957-aca7-40be-ea42-d3a76c6f2de4"
      },
      "source": [
        "model.wv.most_similar(\"glimpse\",topn=5)"
      ],
      "execution_count": null,
      "outputs": [
        {
          "output_type": "execute_result",
          "data": {
            "text/plain": [
              "[('farrier', 0.8447016477584839),\n",
              " ('combination', 0.8432402014732361),\n",
              " ('warranties', 0.8408401012420654),\n",
              " ('paroxysm', 0.8351325988769531),\n",
              " ('pretext', 0.832584023475647)]"
            ]
          },
          "metadata": {},
          "execution_count": 12
        }
      ]
    },
    {
      "cell_type": "code",
      "metadata": {
        "colab": {
          "base_uri": "https://localhost:8080/"
        },
        "id": "gspZpd1zV_E4",
        "outputId": "8065e781-e1c0-40e3-9c26-a631bc280af6"
      },
      "source": [
        "model.wv.most_similar(\"incident\",topn=5)"
      ],
      "execution_count": null,
      "outputs": [
        {
          "output_type": "execute_result",
          "data": {
            "text/plain": [
              "[('identify', 0.8747590184211731),\n",
              " ('criminals', 0.8648897409439087),\n",
              " ('ladies', 0.851033091545105),\n",
              " ('instructive', 0.8332861661911011),\n",
              " ('complicated', 0.8332047462463379)]"
            ]
          },
          "metadata": {},
          "execution_count": 13
        }
      ]
    },
    {
      "cell_type": "markdown",
      "metadata": {
        "id": "m9FwvN33llCS"
      },
      "source": [
        "## Pretrained Word2Vec"
      ]
    },
    {
      "cell_type": "code",
      "metadata": {
        "colab": {
          "base_uri": "https://localhost:8080/"
        },
        "id": "AW8ulke4WCzv",
        "outputId": "ad749f19-3eae-42f2-f6d5-f275fde8d583"
      },
      "source": [
        "import gensim.downloader\n",
        "glove_vectors = gensim.downloader.load('word2vec-google-news-300')\n",
        "glove_vectors.most_similar('investigation')\n"
      ],
      "execution_count": null,
      "outputs": [
        {
          "output_type": "stream",
          "name": "stdout",
          "text": [
            "[==================================================] 100.0% 1662.8/1662.8MB downloaded\n"
          ]
        },
        {
          "output_type": "execute_result",
          "data": {
            "text/plain": [
              "[('investigations', 0.8337494730949402),\n",
              " ('probe', 0.7943025827407837),\n",
              " ('inquiry', 0.7801671028137207),\n",
              " ('investgation', 0.6887422800064087),\n",
              " ('investigaton', 0.6771849393844604),\n",
              " ('investiga_tion', 0.6675636768341064),\n",
              " ('investigtion', 0.6666750311851501),\n",
              " ('investiation', 0.645551323890686),\n",
              " ('Investigations', 0.644292950630188),\n",
              " ('vestigation', 0.6441564559936523)]"
            ]
          },
          "metadata": {},
          "execution_count": 14
        }
      ]
    },
    {
      "cell_type": "code",
      "metadata": {
        "id": "6urKkI-Xl9Is"
      },
      "source": [
        ""
      ],
      "execution_count": null,
      "outputs": []
    }
  ]
}